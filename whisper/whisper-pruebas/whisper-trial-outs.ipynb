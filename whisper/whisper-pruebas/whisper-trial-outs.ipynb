{
 "cells": [
  {
   "cell_type": "code",
   "execution_count": 14,
   "id": "44c174dd",
   "metadata": {},
   "outputs": [],
   "source": [
    "import whisper\n",
    "import os\n",
    "import numpy as np\n",
    "import torch\n",
    "import pyaudio\n",
    "import wave"
   ]
  },
  {
   "cell_type": "markdown",
   "id": "a364a86f",
   "metadata": {},
   "source": [
    "# recording microphone:\n",
    "\n",
    "a recording is saved and then it is passed to whisper base model"
   ]
  },
  {
   "cell_type": "code",
   "execution_count": 8,
   "id": "be480235",
   "metadata": {},
   "outputs": [
    {
     "name": "stderr",
     "output_type": "stream",
     "text": [
      "ALSA lib pcm_dsnoop.c:641:(snd_pcm_dsnoop_open) unable to open slave\n",
      "ALSA lib pcm_dmix.c:1089:(snd_pcm_dmix_open) unable to open slave\n",
      "ALSA lib pcm.c:2642:(snd_pcm_open_noupdate) Unknown PCM cards.pcm.rear\n",
      "ALSA lib pcm.c:2642:(snd_pcm_open_noupdate) Unknown PCM cards.pcm.center_lfe\n",
      "ALSA lib pcm.c:2642:(snd_pcm_open_noupdate) Unknown PCM cards.pcm.side\n",
      "ALSA lib pcm_oss.c:377:(_snd_pcm_oss_open) Unknown field port\n",
      "ALSA lib pcm_oss.c:377:(_snd_pcm_oss_open) Unknown field port\n",
      "ALSA lib pcm_usb_stream.c:486:(_snd_pcm_usb_stream_open) Invalid type for card\n",
      "ALSA lib pcm_usb_stream.c:486:(_snd_pcm_usb_stream_open) Invalid type for card\n",
      "ALSA lib pcm_dmix.c:1089:(snd_pcm_dmix_open) unable to open slave\n"
     ]
    }
   ],
   "source": [
    "# set the parameters for the audio stream\n",
    "FORMAT = pyaudio.paInt16\n",
    "CHANNELS = 1\n",
    "RATE = 44100\n",
    "CHUNK = 1024\n",
    "RECORD_SECONDS = 10\n",
    "\n",
    "# create a PyAudio object\n",
    "audio = pyaudio.PyAudio()\n",
    "\n",
    "# create a new audio stream\n",
    "stream = audio.open(format=FORMAT, channels=CHANNELS,\n",
    "                    rate=RATE, input=True,\n",
    "                    frames_per_buffer=CHUNK)\n",
    "\n",
    "# create a list to store the audio frames\n",
    "frames = []\n",
    "\n",
    "# record audio for the specified duration\n",
    "for i in range(0, int(RATE / CHUNK * RECORD_SECONDS)):\n",
    "    data = stream.read(CHUNK)\n",
    "    frames.append(data)\n",
    "\n",
    "# stop and close the audio stream\n",
    "stream.stop_stream()\n",
    "stream.close()\n",
    "audio.terminate()\n",
    "\n",
    "# save the recorded audio as a WAV file\n",
    "wave_file = wave.open(\"whisper.wav\", \"wb\")\n",
    "wave_file.setnchannels(CHANNELS)\n",
    "wave_file.setsampwidth(audio.get_sample_size(FORMAT))\n",
    "wave_file.setframerate(RATE)\n",
    "wave_file.writeframes(b\"\".join(frames))\n",
    "wave_file.close()"
   ]
  },
  {
   "cell_type": "code",
   "execution_count": 9,
   "id": "1836acc5",
   "metadata": {},
   "outputs": [
    {
     "name": "stderr",
     "output_type": "stream",
     "text": [
      "/home/edutech-pc06/miniconda3/envs/whisper/lib/python3.9/site-packages/whisper/transcribe.py:79: UserWarning: FP16 is not supported on CPU; using FP32 instead\n",
      "  warnings.warn(\"FP16 is not supported on CPU; using FP32 instead\")\n"
     ]
    },
    {
     "name": "stdout",
     "output_type": "stream",
     "text": [
      " hashtag platicom. Lo que les voy a enseñar es a hackear la clase social donde ustedes viven. Porque efectivamente la clase social que nos rodea.\n"
     ]
    }
   ],
   "source": [
    "model = whisper.load_model(\"base\")\n",
    "result = model.transcribe(\"whisper.wav\")\n",
    "print(result[\"text\"])"
   ]
  },
  {
   "cell_type": "code",
   "execution_count": 10,
   "id": "182198ba",
   "metadata": {},
   "outputs": [
    {
     "data": {
      "text/plain": [
       "{'text': ' hashtag platicom. Lo que les voy a enseñar es a hackear la clase social donde ustedes viven. Porque efectivamente la clase social que nos rodea.',\n",
       " 'segments': [{'id': 0,\n",
       "   'seek': 0,\n",
       "   'start': 0.0,\n",
       "   'end': 5.1000000000000005,\n",
       "   'text': ' hashtag platicom. Lo que les voy a enseñar es a hackear la clase social donde ustedes',\n",
       "   'tokens': [20379,\n",
       "    3403,\n",
       "    299,\n",
       "    298,\n",
       "    13,\n",
       "    6130,\n",
       "    631,\n",
       "    1512,\n",
       "    7552,\n",
       "    257,\n",
       "    31275,\n",
       "    289,\n",
       "    785,\n",
       "    257,\n",
       "    324,\n",
       "    18627,\n",
       "    289,\n",
       "    635,\n",
       "    44578,\n",
       "    2093,\n",
       "    10488,\n",
       "    17110],\n",
       "   'temperature': 0.0,\n",
       "   'avg_logprob': -0.5827705104176591,\n",
       "   'compression_ratio': 1.3125,\n",
       "   'no_speech_prob': 0.35916316509246826},\n",
       "  {'id': 1,\n",
       "   'seek': 510,\n",
       "   'start': 5.1,\n",
       "   'end': 33.1,\n",
       "   'text': ' viven. Porque efectivamente la clase social que nos rodea.',\n",
       "   'tokens': [50364,\n",
       "    1932,\n",
       "    553,\n",
       "    13,\n",
       "    11287,\n",
       "    22565,\n",
       "    23957,\n",
       "    635,\n",
       "    44578,\n",
       "    2093,\n",
       "    631,\n",
       "    3269,\n",
       "    21602,\n",
       "    64,\n",
       "    13,\n",
       "    51764],\n",
       "   'temperature': 0.0,\n",
       "   'avg_logprob': -0.49494513343362245,\n",
       "   'compression_ratio': 0.9354838709677419,\n",
       "   'no_speech_prob': 0.014401431195437908}],\n",
       " 'language': 'es'}"
      ]
     },
     "execution_count": 10,
     "metadata": {},
     "output_type": "execute_result"
    }
   ],
   "source": [
    "result"
   ]
  },
  {
   "cell_type": "code",
   "execution_count": 15,
   "id": "286d01bd",
   "metadata": {},
   "outputs": [],
   "source": [
    "torch.cuda.is_available()\n",
    "DEVICE = \"cuda\" if torch.cuda.is_available() else \"cpu\""
   ]
  },
  {
   "cell_type": "code",
   "execution_count": 16,
   "id": "96705866",
   "metadata": {},
   "outputs": [
    {
     "name": "stdout",
     "output_type": "stream",
     "text": [
      "hashtag platicom. Lo que les voy a enseñar es a hackear la clase social donde ustedes viven porque efectivamente la clase social que nos rodea hace\n"
     ]
    }
   ],
   "source": [
    "model = whisper.load_model(\"base\", device=DEVICE)\n",
    "\n",
    "audio = whisper.load_audio(\"whisper.wav\")\n",
    "audio = whisper.pad_or_trim(audio)\n",
    "mel = whisper.log_mel_spectrogram(audio).to(model.device)\n",
    "\n",
    "options = whisper.DecodingOptions(language=\"es\", without_timestamps=True, fp16 = False)\n",
    "result = whisper.decode(model, mel, options)\n",
    "print(result.text)\n"
   ]
  },
  {
   "cell_type": "code",
   "execution_count": null,
   "id": "894ea48f",
   "metadata": {},
   "outputs": [],
   "source": []
  },
  {
   "cell_type": "code",
   "execution_count": null,
   "id": "a2b5a066",
   "metadata": {},
   "outputs": [],
   "source": []
  },
  {
   "cell_type": "code",
   "execution_count": 18,
   "id": "70353d50",
   "metadata": {},
   "outputs": [
    {
     "name": "stderr",
     "output_type": "stream",
     "text": [
      "ALSA lib pcm_dsnoop.c:641:(snd_pcm_dsnoop_open) unable to open slave\n",
      "ALSA lib pcm_dmix.c:1089:(snd_pcm_dmix_open) unable to open slave\n",
      "ALSA lib pcm.c:2642:(snd_pcm_open_noupdate) Unknown PCM cards.pcm.rear\n",
      "ALSA lib pcm.c:2642:(snd_pcm_open_noupdate) Unknown PCM cards.pcm.center_lfe\n",
      "ALSA lib pcm.c:2642:(snd_pcm_open_noupdate) Unknown PCM cards.pcm.side\n",
      "ALSA lib pcm_oss.c:377:(_snd_pcm_oss_open) Unknown field port\n",
      "ALSA lib pcm_oss.c:377:(_snd_pcm_oss_open) Unknown field port\n",
      "ALSA lib pcm_usb_stream.c:486:(_snd_pcm_usb_stream_open) Invalid type for card\n",
      "ALSA lib pcm_usb_stream.c:486:(_snd_pcm_usb_stream_open) Invalid type for card\n",
      "ALSA lib pcm_dmix.c:1089:(snd_pcm_dmix_open) unable to open slave\n"
     ]
    },
    {
     "name": "stdout",
     "output_type": "stream",
     "text": [
      ".wav guardado\n",
      "entonces que van más allá de audio libros, a más o de solo tiene audio libros. Nosotros lo que hacemos es tenemos audio libros pero también tenemos contenido original que nunca ni siquiera existió en libros.\n",
      "CPU times: user 15 s, sys: 923 ms, total: 15.9 s\n",
      "Wall time: 12.4 s\n"
     ]
    }
   ],
   "source": [
    "%%time\n",
    "# set the parameters for the audio stream\n",
    "FORMAT = pyaudio.paInt16\n",
    "CHANNELS = 1\n",
    "RATE = 44100\n",
    "CHUNK = 1024\n",
    "RECORD_SECONDS = 10\n",
    "\n",
    "# create a PyAudio object\n",
    "audio = pyaudio.PyAudio()\n",
    "\n",
    "# create a new audio stream\n",
    "stream = audio.open(format=FORMAT, channels=CHANNELS,\n",
    "                    rate=RATE, input=True,\n",
    "                    frames_per_buffer=CHUNK)\n",
    "\n",
    "# create a list to store the audio frames\n",
    "frames = []\n",
    "\n",
    "# record audio for the specified duration\n",
    "for i in range(0, int(RATE / CHUNK * RECORD_SECONDS)):\n",
    "    data = stream.read(CHUNK)\n",
    "    frames.append(data)\n",
    "\n",
    "# stop and close the audio stream\n",
    "stream.stop_stream()\n",
    "stream.close()\n",
    "audio.terminate()\n",
    "\n",
    "# save the recorded audio as a WAV file\n",
    "wave_file = wave.open(\"whisper.wav\", \"wb\")\n",
    "wave_file.setnchannels(CHANNELS)\n",
    "wave_file.setsampwidth(audio.get_sample_size(FORMAT))\n",
    "wave_file.setframerate(RATE)\n",
    "wave_file.writeframes(b\"\".join(frames))\n",
    "wave_file.close()\n",
    "\n",
    "print(\".wav guardado\")\n",
    "\n",
    "audio = whisper.load_audio(\"whisper.wav\")\n",
    "audio = whisper.pad_or_trim(audio)\n",
    "mel = whisper.log_mel_spectrogram(audio).to(model.device)\n",
    "\n",
    "options = whisper.DecodingOptions(language=\"es\", without_timestamps=True, fp16 = False)\n",
    "result = whisper.decode(model, mel, options)\n",
    "print(result.text)\n",
    "\n"
   ]
  },
  {
   "cell_type": "code",
   "execution_count": null,
   "id": "90655972",
   "metadata": {},
   "outputs": [],
   "source": []
  }
 ],
 "metadata": {
  "kernelspec": {
   "display_name": "whisper",
   "language": "python",
   "name": "whisper"
  },
  "language_info": {
   "codemirror_mode": {
    "name": "ipython",
    "version": 3
   },
   "file_extension": ".py",
   "mimetype": "text/x-python",
   "name": "python",
   "nbconvert_exporter": "python",
   "pygments_lexer": "ipython3",
   "version": "3.9.16"
  }
 },
 "nbformat": 4,
 "nbformat_minor": 5
}
