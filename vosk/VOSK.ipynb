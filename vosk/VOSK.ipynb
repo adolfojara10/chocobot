{
 "cells": [
  {
   "cell_type": "code",
   "execution_count": null,
   "id": "21db15e1",
   "metadata": {},
   "outputs": [
    {
     "ename": "",
     "evalue": "",
     "output_type": "error",
     "traceback": [
      "\u001b[1;31mRunning cells with 'Python 3.9.5 64-bit' requires ipykernel package.\n",
      "Run the following command to install 'ipykernel' into the Python environment. \n",
      "Command: '/bin/python3.9 -m pip install ipykernel -U --user --force-reinstall'"
     ]
    }
   ],
   "source": [
    "from vosk import Model, KaldiRecognizer\n",
    "import pyaudio\n",
    "import json\n",
    "import pyttsx3\n",
    "from Levenshtein import distance as lev"
   ]
  },
  {
   "cell_type": "code",
   "execution_count": 3,
   "id": "e8005968",
   "metadata": {},
   "outputs": [],
   "source": [
    "model = Model(\"vosk-es\")"
   ]
  },
  {
   "cell_type": "code",
   "execution_count": 4,
   "id": "ae399502",
   "metadata": {},
   "outputs": [],
   "source": [
    "recognizer = KaldiRecognizer(model, 16000)\n",
    "engine = pyttsx3.init()\n",
    "engine.setProperty(\"rate\", 120)\n",
    "#engine.setProperty(\"voice\", \"spanish\")\n",
    "#engine.setProperty(\"volume\", 1)\n",
    "\n",
    "voices = engine.getProperty(\"voices\")\n",
    "engine.setProperty(\"voice\", voices[0].id)\n",
    "#rate = engine.getProperty(\"rate\")\n",
    "#engine.setProperty(\"rate\", rate-50)"
   ]
  },
  {
   "cell_type": "code",
   "execution_count": 5,
   "id": "7612e247",
   "metadata": {},
   "outputs": [
    {
     "name": "stdout",
     "output_type": "stream",
     "text": [
      "<Voice id=HKEY_LOCAL_MACHINE\\SOFTWARE\\Microsoft\\Speech\\Voices\\Tokens\\TTS_MS_ES-MX_SABINA_11.0\n",
      "          name=Microsoft Sabina Desktop - Spanish (Mexico)\n",
      "          languages=[]\n",
      "          gender=None\n",
      "          age=None>\n",
      "<Voice id=HKEY_LOCAL_MACHINE\\SOFTWARE\\Microsoft\\Speech\\Voices\\Tokens\\TTS_MS_EN-US_ZIRA_11.0\n",
      "          name=Microsoft Zira Desktop - English (United States)\n",
      "          languages=[]\n",
      "          gender=None\n",
      "          age=None>\n",
      "<Voice id=HKEY_LOCAL_MACHINE\\SOFTWARE\\Microsoft\\Speech\\Voices\\Tokens\\TTS_MS_EN-US_DAVID_11.0\n",
      "          name=Microsoft David Desktop - English (United States)\n",
      "          languages=[]\n",
      "          gender=None\n",
      "          age=None>\n"
     ]
    }
   ],
   "source": [
    "voices = engine.getProperty(\"voices\")\n",
    "for p in voices:\n",
    "    print(p)"
   ]
  },
  {
   "cell_type": "code",
   "execution_count": 15,
   "id": "faa69ac2",
   "metadata": {},
   "outputs": [],
   "source": [
    "COMANDOS_MENU = {\n",
    "    1:[\"contar cuento\", \"cuento\", \"quiero cuento\"],\n",
    "    2:[\"movimientos\", \"muevete\", \"activar movimientos\"],\n",
    "    3:[\"juego preguntas\", \"preguntas\"]\n",
    "}\n",
    "\n",
    "COMANDOS_MOVIMIENTOS = {\n",
    "    \"parpadear\":[\"parpadear\", \"cerrar los ojos\", \"parpadea\"],\n",
    "    \"ojos\":[\"virolo\",\"mover los ojos\", \"ojos\", \"ojo\"],\n",
    "    \"boca\":[\"abre la boca\", \"boca\"],\n",
    "    \"cabeza\":[\"cabeza\", \"mueve la cabeza\", \"mueve cabeza\", \"cuello\"]\n",
    "}\n",
    "\n",
    "\n",
    "#index_command = []\n",
    "\n",
    "def f_wake_up():\n",
    "    engine.say(\"Hola me llamo chocobot\")\n",
    "    engine.runAndWait()\n",
    "    \n",
    "def f_speak(text):\n",
    "    engine.say(text)\n",
    "    engine.runAndWait()\n",
    "    \n",
    "def f_recognize_command(COMANDOS, command):\n",
    "    lev_speaken_command = []\n",
    "    for k,v in COMANDOS.items():\n",
    "        lev_menor = 100\n",
    "        if command in v:\n",
    "            return k\n",
    "        else:\n",
    "            lev_speaken_command.append(lev(command, v))           \n",
    "            \n",
    "            \n",
    "            \"\"\"print(lev(command, v), \"\\n\", \"--------------\")\n",
    "            \n",
    "            for palabra in v:\n",
    "                distancia = lev(command, v)\n",
    "                print(distancia)\n",
    "                if distancia < lev_menor:\n",
    "                    lev_menor = distancia\n",
    "            print(\"\\n\", \"--------------\")\"\"\"    \n",
    "    \n",
    "    index = lev_speaken_command.index(min(lev_speaken_command))\n",
    "    return [list(COMANDOS.keys())[index],min(lev_speaken_command)]"
   ]
  },
  {
   "cell_type": "code",
   "execution_count": 18,
   "id": "0e13359e",
   "metadata": {
    "scrolled": true
   },
   "outputs": [
    {
     "name": "stdout",
     "output_type": "stream",
     "text": [
      "hola\n",
      "\n",
      "cuento\n",
      "junta\n",
      "\n",
      "pregunta\n",
      "lucas\n",
      "mientos\n",
      "\n",
      "movimientos\n",
      "ojo\n"
     ]
    },
    {
     "ename": "KeyboardInterrupt",
     "evalue": "",
     "output_type": "error",
     "traceback": [
      "\u001b[1;31m---------------------------------------------------------------------------\u001b[0m",
      "\u001b[1;31mKeyboardInterrupt\u001b[0m                         Traceback (most recent call last)",
      "Cell \u001b[1;32mIn[18], line 14\u001b[0m\n\u001b[0;32m      9\u001b[0m stream\u001b[38;5;241m.\u001b[39mstart_stream()\n\u001b[0;32m     13\u001b[0m \u001b[38;5;28;01mwhile\u001b[39;00m \u001b[38;5;28;01mTrue\u001b[39;00m:\n\u001b[1;32m---> 14\u001b[0m     data \u001b[38;5;241m=\u001b[39m \u001b[43mstream\u001b[49m\u001b[38;5;241;43m.\u001b[39;49m\u001b[43mread\u001b[49m\u001b[43m(\u001b[49m\u001b[38;5;241;43m4000\u001b[39;49m\u001b[43m,\u001b[49m\u001b[43m \u001b[49m\u001b[43mexception_on_overflow\u001b[49m\u001b[38;5;241;43m=\u001b[39;49m\u001b[38;5;28;43;01mFalse\u001b[39;49;00m\u001b[43m)\u001b[49m\n\u001b[0;32m     15\u001b[0m     \u001b[38;5;28;01mif\u001b[39;00m recognizer\u001b[38;5;241m.\u001b[39mAcceptWaveform(data):\n\u001b[0;32m     17\u001b[0m         resultado \u001b[38;5;241m=\u001b[39m json\u001b[38;5;241m.\u001b[39mloads(recognizer\u001b[38;5;241m.\u001b[39mResult())\n",
      "File \u001b[1;32m~\\anaconda3\\envs\\trabajo\\Lib\\site-packages\\pyaudio\\__init__.py:570\u001b[0m, in \u001b[0;36mPyAudio.Stream.read\u001b[1;34m(self, num_frames, exception_on_overflow)\u001b[0m\n\u001b[0;32m    567\u001b[0m \u001b[38;5;28;01mif\u001b[39;00m \u001b[38;5;129;01mnot\u001b[39;00m \u001b[38;5;28mself\u001b[39m\u001b[38;5;241m.\u001b[39m_is_input:\n\u001b[0;32m    568\u001b[0m     \u001b[38;5;28;01mraise\u001b[39;00m \u001b[38;5;167;01mIOError\u001b[39;00m(\u001b[38;5;124m\"\u001b[39m\u001b[38;5;124mNot input stream\u001b[39m\u001b[38;5;124m\"\u001b[39m,\n\u001b[0;32m    569\u001b[0m                   paCanNotReadFromAnOutputOnlyStream)\n\u001b[1;32m--> 570\u001b[0m \u001b[38;5;28;01mreturn\u001b[39;00m \u001b[43mpa\u001b[49m\u001b[38;5;241;43m.\u001b[39;49m\u001b[43mread_stream\u001b[49m\u001b[43m(\u001b[49m\u001b[38;5;28;43mself\u001b[39;49m\u001b[38;5;241;43m.\u001b[39;49m\u001b[43m_stream\u001b[49m\u001b[43m,\u001b[49m\u001b[43m \u001b[49m\u001b[43mnum_frames\u001b[49m\u001b[43m,\u001b[49m\n\u001b[0;32m    571\u001b[0m \u001b[43m                      \u001b[49m\u001b[43mexception_on_overflow\u001b[49m\u001b[43m)\u001b[49m\n",
      "\u001b[1;31mKeyboardInterrupt\u001b[0m: "
     ]
    }
   ],
   "source": [
    "cap = pyaudio.PyAudio()\n",
    "stream = cap.open(format=pyaudio.paInt16, \n",
    "#                  input_device_index=0,\n",
    "                  channels=1, \n",
    "                  rate=16000,\n",
    "                  input=True, \n",
    "                  frames_per_buffer=8192)\n",
    "#                  output_device_index=0)\n",
    "stream.start_stream()\n",
    "\n",
    "\n",
    "\n",
    "while True:\n",
    "    data = stream.read(4000, exception_on_overflow=False)\n",
    "    if recognizer.AcceptWaveform(data):\n",
    "        \n",
    "        resultado = json.loads(recognizer.Result())\n",
    "        print(resultado[\"text\"])\n",
    "        \n",
    "        if \"salir\" in resultado[\"text\"] or \"terminar\" in resultado[\"text\"] or \"chao\" in resultado[\"text\"]:\n",
    "            f_speak(\"Hasta luego\")\n",
    "            break\n",
    "        elif \"hola\" in resultado[\"text\"]:\n",
    "            f_wake_up()\n",
    "        elif not resultado[\"text\"]:\n",
    "            pass\n",
    "        else:\n",
    "            respuesta_movimiento = f_recognize_command(COMANDOS_MOVIMIENTOS,resultado['text'])\n",
    "            respuesta_menu = f_recognize_command(COMANDOS_MENU,resultado['text'])\n",
    "            \n",
    "            if (type(respuesta_movimiento) == list and type(respuesta_menu) == list):\n",
    "                if respuesta_movimiento[1]<respuesta_menu[1]:\n",
    "                    #hacer lo del menu: 1: cuento, 2: movimientos, 3: preguntas\n",
    "                    if respuesta_menu[0] == 1:\n",
    "                        f_speak(\"Vamos a comenzar con el cuento\")\n",
    "                    elif respuesta_menu[0] == 2:\n",
    "                        f_speak(\"Dime que movimiento quieres que realice\")\n",
    "                    else:\n",
    "                        f_speak(\"Empecemos con las preguntas\")\n",
    "                elif respuesta_movimiento[1]>respuesta_menu[1]:\n",
    "                    f_speak(\"Voy a realizar el siguiente movimiento %\" %respuesta_movimiento[0])\n",
    "                else:\n",
    "                    f_speak(\"No te escuche claramente, ¿podrias repetir tu peticion?\")\n",
    "            \n",
    "            else:\n",
    "                \n",
    "                if type(respuesta_movimiento) == str:\n",
    "                    f_speak(\"Voy a realizar el siguiente movimiento %s\" %respuesta_movimiento)\n",
    "                else:\n",
    "                    if respuesta_menu == 1:\n",
    "                        f_speak(\"Vamos a comenzar con el cuento\")\n",
    "                    elif respuesta_menu == 2:\n",
    "                        f_speak(\"Dime que movimiento quieres que realice\")\n",
    "                    else:\n",
    "                        f_speak(\"Empecemos con las preguntas\")\n",
    "                \n",
    "                \n",
    "                \n",
    "            #print(respuesta)\n",
    "            "
   ]
  },
  {
   "cell_type": "markdown",
   "id": "e1f722da",
   "metadata": {},
   "source": [
    "# Speech recognition library"
   ]
  },
  {
   "cell_type": "code",
   "execution_count": 2,
   "id": "cc354f2c",
   "metadata": {},
   "outputs": [
    {
     "name": "stdout",
     "output_type": "stream",
     "text": [
      "Collecting speechrecognition\n",
      "  Using cached SpeechRecognition-3.9.0-py2.py3-none-any.whl (32.8 MB)\n",
      "Requirement already satisfied: requests>=2.26.0 in c:\\users\\estadolfosebastianja\\anaconda3\\lib\\site-packages (from speechrecognition) (2.26.0)\n",
      "Requirement already satisfied: idna<4,>=2.5 in c:\\users\\estadolfosebastianja\\anaconda3\\lib\\site-packages (from requests>=2.26.0->speechrecognition) (3.2)\n",
      "Requirement already satisfied: charset-normalizer~=2.0.0 in c:\\users\\estadolfosebastianja\\anaconda3\\lib\\site-packages (from requests>=2.26.0->speechrecognition) (2.0.4)\n",
      "Requirement already satisfied: certifi>=2017.4.17 in c:\\users\\estadolfosebastianja\\anaconda3\\lib\\site-packages (from requests>=2.26.0->speechrecognition) (2021.10.8)\n",
      "Requirement already satisfied: urllib3<1.27,>=1.21.1 in c:\\users\\estadolfosebastianja\\anaconda3\\lib\\site-packages (from requests>=2.26.0->speechrecognition) (1.26.7)\n",
      "Installing collected packages: speechrecognition\n",
      "Successfully installed speechrecognition-3.9.0\n"
     ]
    }
   ],
   "source": [
    "!pip install speechrecognition"
   ]
  },
  {
   "cell_type": "code",
   "execution_count": 14,
   "id": "d05310f7",
   "metadata": {},
   "outputs": [],
   "source": [
    "import speech_recognition as sr\n",
    "r = sr.Recognizer()"
   ]
  },
  {
   "cell_type": "code",
   "execution_count": 15,
   "id": "7330efa4",
   "metadata": {},
   "outputs": [
    {
     "name": "stdout",
     "output_type": "stream",
     "text": [
      "['Microsoft Sound Mapper - Input', 'MicrÃ³fono (Realtek Audio)', 'Microsoft Sound Mapper - Output', 'Altavoces / Auriculares (Realte', 'Controlador primario de captura de sonido', 'MicrÃ³fono (Realtek Audio)', 'Controlador primario de sonido', 'Altavoces / Auriculares (Realtek Audio)', 'Altavoces / Auriculares (Realtek Audio)', 'MicrÃ³fono (Realtek Audio)', 'Speakers (Realtek HD Audio output)', 'MicrÃ³fono (Realtek HD Audio Mic input)', 'Mezcla estÃ©reo (Realtek HD Audio Stereo input)']\n"
     ]
    }
   ],
   "source": [
    "mic = sr.Microphone()\n",
    "print(sr.Microphone.list_microphone_names())\n",
    "mic = sr.Microphone(device_index=0)"
   ]
  },
  {
   "cell_type": "code",
   "execution_count": 16,
   "id": "b7ba93d3",
   "metadata": {},
   "outputs": [
    {
     "ename": "KeyboardInterrupt",
     "evalue": "",
     "output_type": "error",
     "traceback": [
      "\u001b[1;31m---------------------------------------------------------------------------\u001b[0m",
      "\u001b[1;31mKeyboardInterrupt\u001b[0m                         Traceback (most recent call last)",
      "\u001b[1;32mC:\\Users\\ESTADO~1\\AppData\\Local\\Temp/ipykernel_15092/4146839111.py\u001b[0m in \u001b[0;36m<module>\u001b[1;34m\u001b[0m\n\u001b[0;32m      1\u001b[0m \u001b[1;32mwith\u001b[0m \u001b[0mmic\u001b[0m \u001b[1;32mas\u001b[0m \u001b[0msource\u001b[0m\u001b[1;33m:\u001b[0m\u001b[1;33m\u001b[0m\u001b[1;33m\u001b[0m\u001b[0m\n\u001b[0;32m      2\u001b[0m     \u001b[0mr\u001b[0m\u001b[1;33m.\u001b[0m\u001b[0madjust_for_ambient_noise\u001b[0m\u001b[1;33m(\u001b[0m\u001b[0msource\u001b[0m\u001b[1;33m,\u001b[0m \u001b[0mduration\u001b[0m\u001b[1;33m=\u001b[0m\u001b[1;36m3\u001b[0m\u001b[1;33m)\u001b[0m\u001b[1;33m\u001b[0m\u001b[1;33m\u001b[0m\u001b[0m\n\u001b[1;32m----> 3\u001b[1;33m     \u001b[0maudio\u001b[0m \u001b[1;33m=\u001b[0m \u001b[0mr\u001b[0m\u001b[1;33m.\u001b[0m\u001b[0mlisten\u001b[0m\u001b[1;33m(\u001b[0m\u001b[0msource\u001b[0m\u001b[1;33m)\u001b[0m\u001b[1;33m\u001b[0m\u001b[1;33m\u001b[0m\u001b[0m\n\u001b[0m\u001b[0;32m      4\u001b[0m     \u001b[0mreconocimineto\u001b[0m \u001b[1;33m=\u001b[0m \u001b[0mr\u001b[0m\u001b[1;33m.\u001b[0m\u001b[0mrecognize_google\u001b[0m\u001b[1;33m(\u001b[0m\u001b[0maudio\u001b[0m\u001b[1;33m,\u001b[0m \u001b[0mlanguage\u001b[0m\u001b[1;33m=\u001b[0m\u001b[1;34m\"es-EC\"\u001b[0m\u001b[1;33m)\u001b[0m\u001b[1;33m\u001b[0m\u001b[1;33m\u001b[0m\u001b[0m\n\u001b[0;32m      5\u001b[0m     \u001b[0mprint\u001b[0m\u001b[1;33m(\u001b[0m\u001b[0mreconocimineto\u001b[0m\u001b[1;33m)\u001b[0m\u001b[1;33m\u001b[0m\u001b[1;33m\u001b[0m\u001b[0m\n",
      "\u001b[1;32m~\\anaconda3\\lib\\site-packages\\speech_recognition\\__init__.py\u001b[0m in \u001b[0;36mlisten\u001b[1;34m(self, source, timeout, phrase_time_limit, snowboy_configuration)\u001b[0m\n\u001b[0;32m    707\u001b[0m                     \u001b[1;32mbreak\u001b[0m\u001b[1;33m\u001b[0m\u001b[1;33m\u001b[0m\u001b[0m\n\u001b[0;32m    708\u001b[0m \u001b[1;33m\u001b[0m\u001b[0m\n\u001b[1;32m--> 709\u001b[1;33m                 \u001b[0mbuffer\u001b[0m \u001b[1;33m=\u001b[0m \u001b[0msource\u001b[0m\u001b[1;33m.\u001b[0m\u001b[0mstream\u001b[0m\u001b[1;33m.\u001b[0m\u001b[0mread\u001b[0m\u001b[1;33m(\u001b[0m\u001b[0msource\u001b[0m\u001b[1;33m.\u001b[0m\u001b[0mCHUNK\u001b[0m\u001b[1;33m)\u001b[0m\u001b[1;33m\u001b[0m\u001b[1;33m\u001b[0m\u001b[0m\n\u001b[0m\u001b[0;32m    710\u001b[0m                 \u001b[1;32mif\u001b[0m \u001b[0mlen\u001b[0m\u001b[1;33m(\u001b[0m\u001b[0mbuffer\u001b[0m\u001b[1;33m)\u001b[0m \u001b[1;33m==\u001b[0m \u001b[1;36m0\u001b[0m\u001b[1;33m:\u001b[0m \u001b[1;32mbreak\u001b[0m  \u001b[1;31m# reached end of the stream\u001b[0m\u001b[1;33m\u001b[0m\u001b[1;33m\u001b[0m\u001b[0m\n\u001b[0;32m    711\u001b[0m                 \u001b[0mframes\u001b[0m\u001b[1;33m.\u001b[0m\u001b[0mappend\u001b[0m\u001b[1;33m(\u001b[0m\u001b[0mbuffer\u001b[0m\u001b[1;33m)\u001b[0m\u001b[1;33m\u001b[0m\u001b[1;33m\u001b[0m\u001b[0m\n",
      "\u001b[1;32m~\\anaconda3\\lib\\site-packages\\speech_recognition\\__init__.py\u001b[0m in \u001b[0;36mread\u001b[1;34m(self, size)\u001b[0m\n\u001b[0;32m    209\u001b[0m \u001b[1;33m\u001b[0m\u001b[0m\n\u001b[0;32m    210\u001b[0m         \u001b[1;32mdef\u001b[0m \u001b[0mread\u001b[0m\u001b[1;33m(\u001b[0m\u001b[0mself\u001b[0m\u001b[1;33m,\u001b[0m \u001b[0msize\u001b[0m\u001b[1;33m)\u001b[0m\u001b[1;33m:\u001b[0m\u001b[1;33m\u001b[0m\u001b[1;33m\u001b[0m\u001b[0m\n\u001b[1;32m--> 211\u001b[1;33m             \u001b[1;32mreturn\u001b[0m \u001b[0mself\u001b[0m\u001b[1;33m.\u001b[0m\u001b[0mpyaudio_stream\u001b[0m\u001b[1;33m.\u001b[0m\u001b[0mread\u001b[0m\u001b[1;33m(\u001b[0m\u001b[0msize\u001b[0m\u001b[1;33m,\u001b[0m \u001b[0mexception_on_overflow\u001b[0m\u001b[1;33m=\u001b[0m\u001b[1;32mFalse\u001b[0m\u001b[1;33m)\u001b[0m\u001b[1;33m\u001b[0m\u001b[1;33m\u001b[0m\u001b[0m\n\u001b[0m\u001b[0;32m    212\u001b[0m \u001b[1;33m\u001b[0m\u001b[0m\n\u001b[0;32m    213\u001b[0m         \u001b[1;32mdef\u001b[0m \u001b[0mclose\u001b[0m\u001b[1;33m(\u001b[0m\u001b[0mself\u001b[0m\u001b[1;33m)\u001b[0m\u001b[1;33m:\u001b[0m\u001b[1;33m\u001b[0m\u001b[1;33m\u001b[0m\u001b[0m\n",
      "\u001b[1;32m~\\anaconda3\\lib\\site-packages\\pyaudio\\__init__.py\u001b[0m in \u001b[0;36mread\u001b[1;34m(self, num_frames, exception_on_overflow)\u001b[0m\n\u001b[0;32m    568\u001b[0m                 raise IOError(\"Not input stream\",\n\u001b[0;32m    569\u001b[0m                               paCanNotReadFromAnOutputOnlyStream)\n\u001b[1;32m--> 570\u001b[1;33m             return pa.read_stream(self._stream, num_frames,\n\u001b[0m\u001b[0;32m    571\u001b[0m                                   exception_on_overflow)\n\u001b[0;32m    572\u001b[0m \u001b[1;33m\u001b[0m\u001b[0m\n",
      "\u001b[1;31mKeyboardInterrupt\u001b[0m: "
     ]
    }
   ],
   "source": [
    "with mic as source:\n",
    "    r.adjust_for_ambient_noise(source, duration=3)\n",
    "    audio = r.listen(source)\n",
    "    reconocimineto = r.recognize_google(audio, language=\"es-EC\")\n",
    "    print(reconocimineto)"
   ]
  },
  {
   "cell_type": "code",
   "execution_count": null,
   "id": "e87104e8",
   "metadata": {},
   "outputs": [],
   "source": []
  },
  {
   "cell_type": "code",
   "execution_count": null,
   "id": "1f3b43f2",
   "metadata": {},
   "outputs": [],
   "source": []
  }
 ],
 "metadata": {
  "interpreter": {
   "hash": "f9f85f796d01129d0dd105a088854619f454435301f6ffec2fea96ecbd9be4ac"
  },
  "kernelspec": {
   "display_name": "trabajo",
   "language": "python",
   "name": "python3"
  },
  "language_info": {
   "codemirror_mode": {
    "name": "ipython",
    "version": 3
   },
   "file_extension": ".py",
   "mimetype": "text/x-python",
   "name": "python",
   "nbconvert_exporter": "python",
   "pygments_lexer": "ipython3",
   "version": "3.9.5"
  },
  "toc": {
   "base_numbering": 1,
   "nav_menu": {},
   "number_sections": true,
   "sideBar": true,
   "skip_h1_title": false,
   "title_cell": "Table of Contents",
   "title_sidebar": "Contents",
   "toc_cell": false,
   "toc_position": {},
   "toc_section_display": true,
   "toc_window_display": false
  },
  "varInspector": {
   "cols": {
    "lenName": 16,
    "lenType": 16,
    "lenVar": 40
   },
   "kernels_config": {
    "python": {
     "delete_cmd_postfix": "",
     "delete_cmd_prefix": "del ",
     "library": "var_list.py",
     "varRefreshCmd": "print(var_dic_list())"
    },
    "r": {
     "delete_cmd_postfix": ") ",
     "delete_cmd_prefix": "rm(",
     "library": "var_list.r",
     "varRefreshCmd": "cat(var_dic_list()) "
    }
   },
   "types_to_exclude": [
    "module",
    "function",
    "builtin_function_or_method",
    "instance",
    "_Feature"
   ],
   "window_display": false
  }
 },
 "nbformat": 4,
 "nbformat_minor": 5
}
